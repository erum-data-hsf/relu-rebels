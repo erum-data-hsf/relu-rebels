{
 "cells": [
  {
   "cell_type": "markdown",
   "id": "dead155c",
   "metadata": {},
   "source": [
    "# Installation of Optuna \n",
    "\n",
    "Optuna supports Python 3.8 or newer.\n",
    "\n",
    "We recommend to install Optuna via pip:\n",
    "\n",
    "\n",
    "```\n",
    "$ pip install optuna\n",
    "```"
   ]
  }
 ],
 "metadata": {
  "jupytext": {
   "cell_metadata_filter": "-all",
   "formats": "md:myst",
   "text_representation": {
    "extension": ".md",
    "format_name": "myst"
   }
  },
  "kernelspec": {
   "display_name": "Python 3 (ipykernel)",
   "language": "python",
   "name": "python3"
  },
  "language_info": {
   "codemirror_mode": {
    "name": "ipython",
    "version": 3
   },
   "file_extension": ".py",
   "mimetype": "text/x-python",
   "name": "python",
   "nbconvert_exporter": "python",
   "pygments_lexer": "ipython3",
   "version": "3.12.9"
  },
  "source_map": [
   12
  ]
 },
 "nbformat": 4,
 "nbformat_minor": 5
}