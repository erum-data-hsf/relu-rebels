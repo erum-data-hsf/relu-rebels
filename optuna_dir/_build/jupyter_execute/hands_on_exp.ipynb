{
 "cells": [
  {
   "cell_type": "markdown",
   "id": "a2366804",
   "metadata": {},
   "source": [
    "# Linear Regression with scikit-learn\n",
    "\n",
    "This chapter teaches linear regression using `scikit-learn` with a dataset from \n",
    "[Deep Learning from HEP](https://hsf-training.github.io/deep-learning-intro-for-hep/).\n",
    "\n",
    "Download the dataset from [here](https://github.com/hsf-training/deep-learning-intro-for-hep/blob/main/deep-learning-intro-for-hep/data/penguins.csv) \n",
    "and place it in a `data/` folder.\n",
    "\n",
    "```{admonition} Objectives\n",
    "- Have fun with penguins!\n",
    "```\n",
    "\n",
    "The dataset contains the basic measurements on 3 species of penguins!   \n",
    "\n",
    "![A penguin](https://hsf-training.github.io/deep-learning-intro-for-hep/_images/culmen_depth.png)\n",
    "\n",
    "```{warning}\n",
    "Penguins can be very cute.\n",
    "```"
   ]
  },
  {
   "cell_type": "code",
   "execution_count": 1,
   "id": "fefe270b",
   "metadata": {},
   "outputs": [
    {
     "name": "stdout",
     "output_type": "stream",
     "text": [
      "4\n"
     ]
    }
   ],
   "source": [
    "print(2 + 2)"
   ]
  },
  {
   "cell_type": "code",
   "execution_count": 2,
   "id": "eff5e9c8",
   "metadata": {},
   "outputs": [
    {
     "ename": "ModuleNotFoundError",
     "evalue": "No module named 'pandas'",
     "output_type": "error",
     "traceback": [
      "\u001b[31m---------------------------------------------------------------------------\u001b[39m",
      "\u001b[31mModuleNotFoundError\u001b[39m                       Traceback (most recent call last)",
      "\u001b[36mCell\u001b[39m\u001b[36m \u001b[39m\u001b[32mIn[2]\u001b[39m\u001b[32m, line 1\u001b[39m\n\u001b[32m----> \u001b[39m\u001b[32m1\u001b[39m \u001b[38;5;28;01mimport\u001b[39;00m\u001b[38;5;250m \u001b[39m\u001b[34;01mpandas\u001b[39;00m\u001b[38;5;250m \u001b[39m\u001b[38;5;28;01mas\u001b[39;00m\u001b[38;5;250m \u001b[39m\u001b[34;01mpd\u001b[39;00m\n\u001b[32m      2\u001b[39m penguins_df = pd.read_csv(\u001b[33m\"\u001b[39m\u001b[33mdata/penguins.csv\u001b[39m\u001b[33m\"\u001b[39m)\n\u001b[32m      3\u001b[39m penguins_df\n",
      "\u001b[31mModuleNotFoundError\u001b[39m: No module named 'pandas'"
     ]
    }
   ],
   "source": [
    "import pandas as pd\n",
    "penguins_df = pd.read_csv(\"data/penguins.csv\")\n",
    "penguins_df"
   ]
  }
 ],
 "metadata": {
  "jupytext": {
   "cell_metadata_filter": "-all",
   "formats": "md:myst",
   "text_representation": {
    "extension": ".md",
    "format_name": "myst"
   }
  },
  "kernelspec": {
   "display_name": "Python 3 (ipykernel)",
   "language": "python",
   "name": "python3"
  },
  "language_info": {
   "codemirror_mode": {
    "name": "ipython",
    "version": 3
   },
   "file_extension": ".py",
   "mimetype": "text/x-python",
   "name": "python",
   "nbconvert_exporter": "python",
   "pygments_lexer": "ipython3",
   "version": "3.12.9"
  },
  "source_map": [
   12,
   35,
   39
  ]
 },
 "nbformat": 4,
 "nbformat_minor": 5
}